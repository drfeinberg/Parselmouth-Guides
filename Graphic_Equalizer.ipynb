{
 "cells": [
  {
   "cell_type": "markdown",
   "metadata": {},
   "source": [
    "# Graphic Equalizer in Praat-Parselmouth\n",
    "\n",
    "This code is translated from:\n",
    "http://www.praatvocaltoolkit.com/eq-10-bands.html\n"
   ]
  },
  {
   "cell_type": "markdown",
   "metadata": {},
   "source": [
    "## With sliders..."
   ]
  },
  {
   "cell_type": "code",
   "execution_count": null,
   "metadata": {},
   "outputs": [],
   "source": [
    "import ipywidgets\n",
    "import glob\n",
    "import parselmouth\n",
    "from parselmouth.praat import call\n",
    "from parselmouth.praat import run"
   ]
  },
  {
   "cell_type": "code",
   "execution_count": null,
   "metadata": {},
   "outputs": [],
   "source": [
    "def eq_band(band1, band2, db, smoothing, buffer, sp_eq, sp_pulse):\n",
    "    amp = 0.00002 * 10 ** (db / 20)\n",
    "    run([buffer, sp_pulse], \"\"\"\n",
    "selectObject: 1\n",
    "Formula: \"object[\"\"Spectrum sp_pulse\"\"]\"\n",
    "\"\"\")\n",
    "\n",
    "    call(buffer, \"Filter (pass Hann band)\", band1, band2, smoothing)\n",
    " \n",
    "    call(buffer, \"Formula\", f\"self * {amp}\")\n",
    "\n",
    "    run([sp_eq, buffer], \"\"\"\n",
    "selectObject: 1\n",
    "Formula: \"self + object[\"\"Spectrum buffer\"\"]\"\n",
    "\"\"\")\n",
    "    \n",
    "\n",
    "def graphic_equalizer(audio_file,\n",
    "                      band_1__31_5_Hz,\n",
    "                      band_2__63_Hz,\n",
    "                      band_3__125_Hz,\n",
    "                      band_4__250_Hz,\n",
    "                      band_5__500_Hz,\n",
    "                      band_6__1000_Hz,\n",
    "                      band_7__2000_Hz,\n",
    "                      band_8__4000_Hz,\n",
    "                      band_9__8000_Hz,\n",
    "                      band_10__16000_Hz,\n",
    "                     ):\n",
    "    sound = parselmouth.Sound(audio_file)\n",
    "    duration = sound.get_total_duration()\n",
    "    intensity = call(sound, \"Get intensity (dB)\")\n",
    "    sf = sound.sampling_frequency\n",
    "    pointprocess = call(\"Create empty PointProcess\", \"pulse\", 0, 0.05)\n",
    "    call(pointprocess, \"Add point\", 0.025)\n",
    "    pulse = call(pointprocess, \"To Sound (pulse train)\", sf, 1, 0.05, 2000)\n",
    "    sp_pulse = call(pulse, \"To Spectrum\", \"no\")\n",
    "    sp_pulse.name = \"sp_pulse\"\n",
    "    buffer = sp_pulse.copy()\n",
    "    buffer.name = \"buffer\"\n",
    "    call(buffer, \"Formula\", \"0\")\n",
    "    sp_eq = buffer.copy()\n",
    "    sp_eq.name = \"sp_eq\"\n",
    "    eq_band(0, 44.2, band_1__31_5_Hz, 20, buffer, sp_eq, sp_pulse)\n",
    "    eq_band(44.2, 88.4, band_2__63_Hz, 20, buffer, sp_eq, sp_pulse)\n",
    "    eq_band(88.4, 177, band_3__125_Hz, 40, buffer, sp_eq, sp_pulse)\n",
    "    eq_band(177, 354, band_4__250_Hz, 80, buffer, sp_eq, sp_pulse)\n",
    "    eq_band(354, 707, band_5__500_Hz, 100, buffer, sp_eq, sp_pulse)\n",
    "    eq_band(707, 1414, band_6__1000_Hz, 100, buffer, sp_eq, sp_pulse)\n",
    "    eq_band(1414, 2828, band_7__2000_Hz, 100, buffer, sp_eq, sp_pulse)\n",
    "    eq_band(2828, 5657, band_8__4000_Hz, 100, buffer, sp_eq, sp_pulse)\n",
    "    eq_band(5657, 11314, band_9__8000_Hz, 100, buffer, sp_eq, sp_pulse)\n",
    "    eq_band(11314, max(12000, sf / 2), band_10__16000_Hz, 100, buffer, sp_eq, sp_pulse)\n",
    "    call(sp_eq, \"Filter (pass Hann band)\", 80, 0, 20)\n",
    "    call(sp_eq, \"Filter (pass Hann band)\", 0, 20000, 100)\n",
    "    pulse_eq_temp = sp_eq.to_sound()\n",
    "    dur2 = pulse_eq_temp.get_total_duration()\n",
    "    pulse_eq = call(pulse_eq_temp, \"Extract part\", (dur2 - 0.05) / 2, dur2 - ((dur2 - 0.05) / 2), \"Hanning\", 1, \"no\")\n",
    "    pulse_eq.scale_peak(99)\n",
    "    pulse_sf = pulse_eq.sampling_frequency\n",
    "    if pulse_sf != sf:\n",
    "        call(pulse_eq, \"Override sampling frequency\", sf)\n",
    "    tmp1 = call([pulse_eq, sound], \"Convolve\", \"sum\", \"zero\")\n",
    "    tmp2 = call(tmp1, \"Extract part\", 0.025, duration + 0.025, \"rectangular\", 1, \"no\")\n",
    "    return Audio(data=tmp2.values, rate=tmp2.sampling_frequency)\n",
    "    "
   ]
  },
  {
   "cell_type": "code",
   "execution_count": null,
   "metadata": {},
   "outputs": [],
   "source": [
    "from IPython.display import Audio\n",
    "\n",
    "w = ipywidgets.interact(graphic_equalizer,\n",
    "                        audio_file=ipywidgets.Dropdown(options=sorted(glob.glob(\"*.wav\")), value=\"03-01-01-01-01-01-01.wav\"),\n",
    "                        band_1__31_5_Hz=ipywidgets.IntSlider(min=-24, max=24, step=1, value=0),\n",
    "                        band_2__63_Hz=ipywidgets.IntSlider(min=-24, max=24, step=1, value=0),\n",
    "                        band_3__125_Hz=ipywidgets.IntSlider(min=-24, max=24, step=1, value=0),\n",
    "                        band_4__250_Hz=ipywidgets.IntSlider(min=-24, max=24, step=1, value=0),\n",
    "                        band_5__500_Hz=ipywidgets.IntSlider(min=-24, max=24, step=1, value=0),\n",
    "                        band_6__1000_Hz=ipywidgets.IntSlider(min=-24, max=24, step=1, value=0),\n",
    "                        band_7__2000_Hz=ipywidgets.IntSlider(min=-24, max=24, step=1, value=0),\n",
    "                        band_8__4000_Hz=ipywidgets.IntSlider(min=-24, max=24, step=1, value=0),\n",
    "                        band_9__8000_Hz=ipywidgets.IntSlider(min=-24, max=24, step=1, value=0),\n",
    "                        band_10__16000_Hz=ipywidgets.IntSlider(min=-24, max=24, step=1, value=0))\n",
    "            \n"
   ]
  },
  {
   "cell_type": "markdown",
   "metadata": {},
   "source": [
    "# Here's the code breakdown"
   ]
  },
  {
   "cell_type": "markdown",
   "metadata": {},
   "source": [
    "# Import modules"
   ]
  },
  {
   "cell_type": "code",
   "execution_count": null,
   "metadata": {},
   "outputs": [],
   "source": [
    "import parselmouth\n",
    "from parselmouth.praat import call\n",
    "from parselmouth.praat import run"
   ]
  },
  {
   "cell_type": "markdown",
   "metadata": {},
   "source": [
    "# Load Soud"
   ]
  },
  {
   "cell_type": "code",
   "execution_count": null,
   "metadata": {},
   "outputs": [],
   "source": [
    "sound = parselmouth.Sound(\"03-01-01-01-01-01-01.wav\")"
   ]
  },
  {
   "cell_type": "markdown",
   "metadata": {},
   "source": [
    "# Set values for graphic equalizer"
   ]
  },
  {
   "cell_type": "code",
   "execution_count": null,
   "metadata": {},
   "outputs": [],
   "source": [
    "band_1__31_5_Hz = 24  # this number is dB\n",
    "band_2__63_Hz = 18\n",
    "band_3__125_Hz = 12\n",
    "band_4__250_Hz = 6\n",
    "band_5__500_Hz = 4\n",
    "band_6__1000_Hz = 0\n",
    "band_7__2000_Hz = -6\n",
    "band_8__4000_Hz = -12\n",
    "band_9__8000_Hz = -18\n",
    "band_10__16000_Hz = -24"
   ]
  },
  {
   "cell_type": "markdown",
   "metadata": {},
   "source": [
    "## Round these values to make sure they're integers in the right range"
   ]
  },
  {
   "cell_type": "code",
   "execution_count": null,
   "metadata": {},
   "outputs": [],
   "source": [
    "band_1__31_5_Hz = min(max(round(band_1__31_5_Hz), -24), 24)\n",
    "band_2__63_Hz = min(max(round(band_2__63_Hz), -24), 24)\n",
    "band_3__125_Hz = min(max(round(band_3__125_Hz), -24), 24)\n",
    "band_4__250_Hz = min(max(round(band_4__250_Hz), -24), 24)\n",
    "band_5__500_Hz = min(max(round(band_5__500_Hz), -24), 24)\n",
    "band_6__1000_Hz = min(max(round(band_6__1000_Hz), -24), 24)\n",
    "band_7__2000_Hz = min(max(round(band_7__2000_Hz), -24), 24)\n",
    "band_8__4000_Hz = min(max(round(band_8__4000_Hz), -24), 24)\n",
    "band_9__8000_Hz = min(max(round(band_9__8000_Hz), -24), 24)\n",
    "band_10__16000_Hz = min(max(round(band_10__16000_Hz), -24), 24)"
   ]
  },
  {
   "cell_type": "markdown",
   "metadata": {},
   "source": [
    "# Measure Sound\n",
    "- Duration\n",
    "- Intensity\n",
    "- Sampling Rate"
   ]
  },
  {
   "cell_type": "code",
   "execution_count": null,
   "metadata": {},
   "outputs": [],
   "source": [
    "duration = sound.get_total_duration()\n",
    "intensity = call(sound, \"Get intensity (dB)\")\n",
    "sf = sound.sampling_frequency"
   ]
  },
  {
   "cell_type": "markdown",
   "metadata": {},
   "source": [
    "# Create spectral objects based on a pulse train of the sound"
   ]
  },
  {
   "cell_type": "code",
   "execution_count": null,
   "metadata": {},
   "outputs": [],
   "source": [
    "pointprocess = call(\"Create empty PointProcess\", \"pulse\", 0, 0.05)\n",
    "call(pointprocess, \"Add point\", 0.025)\n",
    "pulse = call(pointprocess, \"To Sound (pulse train)\", sf, 1, 0.05, 2000)\n",
    "sp_pulse = call(pulse, \"To Spectrum\", \"no\")\n",
    "sp_pulse.name = \"sp_pulse\"\n",
    "buffer = sp_pulse.copy()\n",
    "buffer.name = \"buffer\"\n",
    "call(buffer, \"Formula\", \"0\")\n",
    "sp_eq = buffer.copy()\n",
    "sp_eq.name = \"sp_eq\""
   ]
  },
  {
   "cell_type": "markdown",
   "metadata": {},
   "source": [
    "# Function to modify amplitudes in a particular band"
   ]
  },
  {
   "cell_type": "code",
   "execution_count": null,
   "metadata": {},
   "outputs": [],
   "source": [
    "def eq_band(band1, band2, db, smoothing):\n",
    "    amp = 0.00002 * 10 ** (db / 20)\n",
    "    \n",
    "    run([buffer, sp_pulse], \"\"\"\n",
    "selectObject: 1\n",
    "Formula: \"object[\"\"Spectrum sp_pulse\"\"]\"\n",
    "\"\"\")\n",
    "\n",
    "    call(buffer, \"Filter (pass Hann band)\", band1, band2, smoothing)\n",
    " \n",
    "    call(buffer, \"Formula\", f\"self * {amp}\")\n",
    "\n",
    "    run([sp_eq, buffer], \"\"\"\n",
    "selectObject: 1\n",
    "Formula: \"self + object[\"\"Spectrum buffer\"\"]\"\n",
    "\"\"\")\n",
    "    "
   ]
  },
  {
   "cell_type": "markdown",
   "metadata": {},
   "source": [
    "# Modify band amplitudes"
   ]
  },
  {
   "cell_type": "code",
   "execution_count": null,
   "metadata": {},
   "outputs": [],
   "source": [
    "eq_band(0, 44.2, band_1__31_5_Hz, 20)\n",
    "eq_band(44.2, 88.4, band_2__63_Hz, 20)\n",
    "eq_band(88.4, 177, band_3__125_Hz, 40)\n",
    "eq_band(177, 354, band_4__250_Hz, 80)\n",
    "eq_band(354, 707, band_5__500_Hz, 100)\n",
    "eq_band(707, 1414, band_6__1000_Hz, 100)\n",
    "eq_band(1414, 2828, band_7__2000_Hz, 100)\n",
    "eq_band(2828, 5657, band_8__4000_Hz, 100)\n",
    "eq_band(5657, 11314, band_9__8000_Hz, 100)\n",
    "eq_band(11314, max(12000, sf / 2), band_10__16000_Hz, 100)\n",
    "\n",
    "\n",
    "call(sp_eq, \"Filter (pass Hann band)\", 80, 0, 20)\n",
    "call(sp_eq, \"Filter (pass Hann band)\", 0, 20000, 100)\n"
   ]
  },
  {
   "cell_type": "markdown",
   "metadata": {},
   "source": [
    "# Convert band filtered spectrum into a sound and measure it's duration"
   ]
  },
  {
   "cell_type": "code",
   "execution_count": null,
   "metadata": {},
   "outputs": [],
   "source": [
    "pulse_eq_temp = sp_eq.to_sound()\n",
    "dur2 = pulse_eq_temp.get_total_duration()"
   ]
  },
  {
   "cell_type": "markdown",
   "metadata": {},
   "source": [
    "# Trim the amplitude filtered sound & scale the amplitude"
   ]
  },
  {
   "cell_type": "code",
   "execution_count": null,
   "metadata": {},
   "outputs": [],
   "source": [
    "pulse_eq = call(pulse_eq_temp, \"Extract part\", (dur2 - 0.05) / 2, dur2 - ((dur2 - 0.05) / 2), \"Hanning\", 1, \"no\")\n",
    "pulse_eq.scale_peak(99)\n",
    "pulse_sf = pulse_eq.sampling_frequency\n",
    "if pulse_sf != sf:\n",
    "    call(pulse_eq, \"Override sampling frequency\", sf)"
   ]
  },
  {
   "cell_type": "markdown",
   "metadata": {},
   "source": [
    "# Convolve the amplitude filtered sound and the original sound"
   ]
  },
  {
   "cell_type": "code",
   "execution_count": null,
   "metadata": {},
   "outputs": [],
   "source": [
    "tmp1 = call([pulse_eq, sound], \"Convolve\", \"sum\", \"zero\")"
   ]
  },
  {
   "cell_type": "markdown",
   "metadata": {},
   "source": [
    "# Trim the final sound"
   ]
  },
  {
   "cell_type": "code",
   "execution_count": null,
   "metadata": {},
   "outputs": [],
   "source": [
    "tmp2 = call(tmp1, \"Extract part\", 0.025, duration + 0.025, \"rectangular\", 1, \"no\")"
   ]
  },
  {
   "cell_type": "markdown",
   "metadata": {},
   "source": [
    "# Play the sound"
   ]
  },
  {
   "cell_type": "code",
   "execution_count": null,
   "metadata": {},
   "outputs": [],
   "source": [
    "from IPython.display import Audio\n",
    "Audio(data=tmp2.values, rate=tmp2.sampling_frequency)"
   ]
  }
 ],
 "metadata": {
  "kernelspec": {
   "display_name": "Python 3",
   "language": "python",
   "name": "python3"
  },
  "language_info": {
   "codemirror_mode": {
    "name": "ipython",
    "version": 3
   },
   "file_extension": ".py",
   "mimetype": "text/x-python",
   "name": "python",
   "nbconvert_exporter": "python",
   "pygments_lexer": "ipython3",
   "version": "3.7.7"
  }
 },
 "nbformat": 4,
 "nbformat_minor": 4
}
